{
 "cells": [
  {
   "cell_type": "code",
   "execution_count": 1,
   "metadata": {},
   "outputs": [],
   "source": [
    "def read_tree(path):\n",
    "    with open(path) as fp:\n",
    "        tree_string = fp.readline().strip()\n",
    "    return tree_string"
   ]
  },
  {
   "cell_type": "code",
   "execution_count": 45,
   "metadata": {},
   "outputs": [],
   "source": [
    "def parse_tree(nodes, edges, tree_string, num_nodes):\n",
    "    node_id = num_nodes\n",
    "    nodes.append({'id': node_id, 'label': tree_string[1]})\n",
    "    num_nodes += 1\n",
    "    tree_string = tree_string[2:-1]\n",
    "    start = 0\n",
    "    num_open = 0\n",
    "    for i in range(len(tree_string)):\n",
    "        if tree_string[i] == '{':\n",
    "            num_open += 1\n",
    "        elif tree_string[i] == '}':\n",
    "            num_open -= 1\n",
    "        if num_open == 0:\n",
    "            edges.append((node_id, num_nodes))\n",
    "            num_nodes = parse_tree(nodes, edges, tree_string[start:i+1], num_nodes)\n",
    "            start = i+1\n",
    "    return num_nodes"
   ]
  },
  {
   "cell_type": "code",
   "execution_count": 50,
   "metadata": {},
   "outputs": [],
   "source": [
    "def bracket_to_gml(input_path, output_path):\n",
    "    tree_string = read_tree(input_path)\n",
    "    nodes = []\n",
    "    edges = []\n",
    "    _ = parse_tree(nodes, edges, tree_string, 0)\n",
    "    with open(output_path, 'w') as fp:\n",
    "        fp.write('graph [\\n')\n",
    "        for node in nodes:\n",
    "            fp.write(f'  node [\\n    id {node[\"id\"]}\\n    label \"{node[\"label\"]}\"\\n  ]\\n')\n",
    "        for edge in edges:\n",
    "            fp.write(f'  edge [\\n    source {edge[0]}\\n    target {edge[1]}\\n  ]\\n')\n",
    "        fp.write(']\\n')"
   ]
  }
 ],
 "metadata": {
  "kernelspec": {
   "display_name": "Python 3",
   "language": "python",
   "name": "python3"
  },
  "language_info": {
   "codemirror_mode": {
    "name": "ipython",
    "version": 3
   },
   "file_extension": ".py",
   "mimetype": "text/x-python",
   "name": "python",
   "nbconvert_exporter": "python",
   "pygments_lexer": "ipython3",
   "version": "3.7.4"
  }
 },
 "nbformat": 4,
 "nbformat_minor": 5
}
